{
 "metadata": {
  "colab": {
   "provenance": []
  },
  "kernelspec": {
   "name": "python3",
   "display_name": "Python 3",
   "language": "python"
  },
  "language_info": {
   "name": "python",
   "version": "3.10.10",
   "mimetype": "text/x-python",
   "codemirror_mode": {
    "name": "ipython",
    "version": 3
   },
   "pygments_lexer": "ipython3",
   "nbconvert_exporter": "python",
   "file_extension": ".py"
  },
  "accelerator": "GPU",
  "gpuClass": "standard"
 },
 "nbformat_minor": 4,
 "nbformat": 4,
 "cells": [
  {
   "cell_type": "markdown",
   "source": [
    "# Preliminaries "
   ],
   "metadata": {
    "id": "TFalhrizUo8Z"
   }
  },
  {
   "cell_type": "code",
   "source": [
    "!rm -rf ./*\n",
    "!git clone https://github.com/cosmolejo/MLDL23-FL-project\n",
    "!mv MLDL23-FL-project/ MLDL23_FL_project/"
   ],
   "metadata": {
    "execution": {
     "iopub.status.busy": "2023-09-09T14:03:41.021602Z",
     "iopub.execute_input": "2023-09-09T14:03:41.022082Z",
     "iopub.status.idle": "2023-09-09T14:03:42.570542Z",
     "shell.execute_reply.started": "2023-09-09T14:03:41.022052Z",
     "shell.execute_reply": "2023-09-09T14:03:42.569315Z"
    },
    "trusted": true
   },
   "execution_count": 1,
   "outputs": [
    {
     "name": "stdout",
     "text": "Cloning into 'MLDL23-FL-project'...\nremote: Enumerating objects: 67, done.\u001B[K\nremote: Counting objects: 100% (17/17), done.\u001B[K\nremote: Compressing objects: 100% (13/13), done.\u001B[K\nremote: Total 67 (delta 5), reused 4 (delta 4), pack-reused 50\u001B[K\nUnpacking objects: 100% (67/67), 98.32 KiB | 2.14 MiB/s, done.\n",
     "output_type": "stream"
    }
   ]
  },
  {
   "cell_type": "code",
   "source": [
    "\n",
    "# for dirname, _, filenames in os.walk('/kaggle/input'):\n",
    "#     for i,filename in enumerate(filenames):\n",
    "#         if i%10==1:\n",
    "#             print(os.path.join(dirname, filename))\n"
   ],
   "metadata": {
    "execution": {
     "iopub.status.busy": "2023-09-09T14:02:22.454493Z",
     "iopub.execute_input": "2023-09-09T14:02:22.455222Z",
     "iopub.status.idle": "2023-09-09T14:02:22.542015Z",
     "shell.execute_reply.started": "2023-09-09T14:02:22.455176Z",
     "shell.execute_reply": "2023-09-09T14:02:22.540928Z"
    }
   },
   "execution_count": null,
   "outputs": []
  },
  {
   "cell_type": "markdown",
   "source": [
    "# Libraries"
   ],
   "metadata": {
    "id": "qzr8ACVSUnqN"
   }
  },
  {
   "cell_type": "code",
   "source": [
    "import torch\n",
    "import os\n",
    "import torch.nn as nn\n",
    "import torch.nn.functional as F\n",
    "from torch.utils.data import DataLoader\n",
    "from torchvision import datasets, transforms\n",
    "from torchvision.utils import make_grid\n",
    "from sklearn.model_selection import train_test_split\n",
    "import json\n",
    "import numpy as np\n",
    "import pandas as pd\n",
    "from sklearn.metrics import confusion_matrix\n",
    "import matplotlib.pyplot as plt\n",
    "%matplotlib inline"
   ],
   "metadata": {
    "id": "0PzD8lyKUoK3",
    "execution": {
     "iopub.status.busy": "2023-09-09T14:04:17.380568Z",
     "iopub.execute_input": "2023-09-09T14:04:17.380891Z",
     "iopub.status.idle": "2023-09-09T14:04:17.387857Z",
     "shell.execute_reply.started": "2023-09-09T14:04:17.380871Z",
     "shell.execute_reply": "2023-09-09T14:04:17.386597Z"
    },
    "trusted": true
   },
   "execution_count": 5,
   "outputs": []
  },
  {
   "cell_type": "code",
   "source": [
    "def data_parser(df):\n",
    "    \"\"\"\n",
    "    takes a dataframe sorted by writers and unpacks the data\n",
    "    return: dataframe with two columns [img,class]\n",
    "    \"\"\"\n",
    "    transpose = df.T\n",
    "    out_dict = dict()\n",
    "    idx = 0\n",
    "    for _, row in transpose.iterrows():\n",
    "        row_x = row.x\n",
    "        for i,val in enumerate(row.y):\n",
    "            out_dict[idx] =[  np.array(row_x[i],dtype=np.float16),val]\n",
    "            idx+=1\n",
    "    out_df = pd.DataFrame(out_dict).T\n",
    "    out_df = out_df.rename(columns={0:'img',\n",
    "                          1:'class'})\n",
    "    return out_df"
   ],
   "metadata": {
    "id": "5-YD3zlyUuUp",
    "execution": {
     "iopub.status.busy": "2023-09-09T14:04:18.164370Z",
     "iopub.execute_input": "2023-09-09T14:04:18.164724Z",
     "iopub.status.idle": "2023-09-09T14:04:18.172082Z",
     "shell.execute_reply.started": "2023-09-09T14:04:18.164692Z",
     "shell.execute_reply": "2023-09-09T14:04:18.170434Z"
    },
    "trusted": true
   },
   "execution_count": 6,
   "outputs": []
  },
  {
   "cell_type": "code",
   "source": [
    "df = pd.DataFrame()\n",
    "\n",
    "for dirname, _, filenames in os.walk('/kaggle/input/femnist/all_data/'):\n",
    "    for filename in filenames:\n",
    "        print(os.path.join(dirname, filename))\n",
    "        data = json.load(open(os.path.join(dirname, filename)))\n",
    "        \n",
    "        temp_df = pd.DataFrame(data['user_data'])\n",
    "        temp_df = temp_df.reset_index(drop=True)\n",
    "        df = pd.concat([df, temp_df], axis=1) # ignore_index=True\n",
    "df = df.rename(index={0: \"x\", 1: \"y\"})\n",
    "df"
   ],
   "metadata": {
    "id": "Rzz5iZueWs7I",
    "outputId": "08d94fbf-8fa6-435f-c604-519260b3a1c8",
    "execution": {
     "iopub.status.busy": "2023-09-09T14:04:18.590229Z",
     "iopub.execute_input": "2023-09-09T14:04:18.590603Z",
     "iopub.status.idle": "2023-09-09T14:06:39.312394Z",
     "shell.execute_reply.started": "2023-09-09T14:04:18.590573Z",
     "shell.execute_reply": "2023-09-09T14:06:39.310613Z"
    },
    "trusted": true
   },
   "execution_count": 7,
   "outputs": [
    {
     "name": "stdout",
     "text": "/kaggle/input/femnist/all_data/all_data_17.json\n/kaggle/input/femnist/all_data/all_data_23.json\n/kaggle/input/femnist/all_data/all_data_20.json\n/kaggle/input/femnist/all_data/all_data_27.json\n/kaggle/input/femnist/all_data/all_data_22.json\n/kaggle/input/femnist/all_data/all_data_28.json\n/kaggle/input/femnist/all_data/all_data_2.json\n/kaggle/input/femnist/all_data/all_data_12.json\n/kaggle/input/femnist/all_data/all_data_16.json\n/kaggle/input/femnist/all_data/all_data_25.json\n/kaggle/input/femnist/all_data/all_data_7.json\n/kaggle/input/femnist/all_data/all_data_24.json\n/kaggle/input/femnist/all_data/all_data_14.json\n/kaggle/input/femnist/all_data/all_data_10.json\n/kaggle/input/femnist/all_data/all_data_13.json\n/kaggle/input/femnist/all_data/all_data_11.json\n/kaggle/input/femnist/all_data/all_data_5.json\n/kaggle/input/femnist/all_data/all_data_9.json\n/kaggle/input/femnist/all_data/all_data_32.json\n/kaggle/input/femnist/all_data/all_data_1.json\n/kaggle/input/femnist/all_data/all_data_6.json\n/kaggle/input/femnist/all_data/all_data_29.json\n/kaggle/input/femnist/all_data/all_data_8.json\n/kaggle/input/femnist/all_data/all_data_19.json\n/kaggle/input/femnist/all_data/all_data_26.json\n/kaggle/input/femnist/all_data/all_data_21.json\n/kaggle/input/femnist/all_data/all_data_31.json\n/kaggle/input/femnist/all_data/all_data_3.json\n/kaggle/input/femnist/all_data/all_data_18.json\n/kaggle/input/femnist/all_data/all_data_34.json\n/kaggle/input/femnist/all_data/all_data_4.json\n/kaggle/input/femnist/all_data/all_data_15.json\n/kaggle/input/femnist/all_data/all_data_30.json\n/kaggle/input/femnist/all_data/all_data_33.json\n/kaggle/input/femnist/all_data/all_data_0.json\n/kaggle/input/femnist/all_data/all_data_35.json\n",
     "output_type": "stream"
    },
    {
     "execution_count": 7,
     "output_type": "execute_result",
     "data": {
      "text/plain": "                                            f2507_78  \\\n0  [[1.0, 1.0, 1.0, 1.0, 1.0, 1.0, 1.0, 1.0, 1.0,...   \n1  [59, 59, 42, 53, 51, 56, 37, 49, 46, 47, 44, 6...   \n\n                                            f2149_81  \\\n0  [[1.0, 1.0, 1.0, 1.0, 1.0, 1.0, 1.0, 1.0, 1.0,...   \n1  [37, 37, 45, 51, 59, 56, 40, 53, 46, 60, 52, 5...   \n\n                                            f2105_51  \\\n0  [[1.0, 1.0, 1.0, 1.0, 1.0, 1.0, 1.0, 1.0, 1.0,...   \n1  [7, 7, 1, 3, 1, 9, 8, 7, 2, 1, 6, 3, 2, 6, 4, ...   \n\n                                            f2308_56  \\\n0  [[1.0, 1.0, 1.0, 1.0, 1.0, 1.0, 1.0, 1.0, 1.0,...   \n1  [1, 1, 7, 7, 4, 9, 8, 5, 9, 9, 8, 7, 4, 1, 0, ...   \n\n                                            f2111_87  \\\n0  [[1.0, 1.0, 1.0, 1.0, 1.0, 1.0, 1.0, 1.0, 1.0,...   \n1  [9, 9, 7, 8, 6, 2, 4, 8, 4, 0, 3, 9, 4, 6, 2, ...   \n\n                                            f2235_81  \\\n0  [[1.0, 1.0, 1.0, 1.0, 1.0, 1.0, 1.0, 1.0, 1.0,...   \n1  [31, 31, 18, 15, 18, 12, 13, 25, 32, 23, 10, 1...   \n\n                                            f2216_66  \\\n0  [[1.0, 1.0, 1.0, 1.0, 1.0, 1.0, 1.0, 1.0, 1.0,...   \n1  [24, 24, 22, 35, 32, 26, 28, 21, 12, 25, 10, 3...   \n\n                                            f2211_73  \\\n0  [[1.0, 1.0, 1.0, 1.0, 1.0, 1.0, 1.0, 1.0, 1.0,...   \n1  [19, 19, 33, 31, 24, 16, 11, 29, 30, 28, 21, 1...   \n\n                                            f2184_98  \\\n0  [[1.0, 1.0, 1.0, 1.0, 1.0, 1.0, 1.0, 1.0, 1.0,...   \n1  [42, 42, 61, 48, 46, 56, 41, 41, 54, 43, 37, 3...   \n\n                                            f2121_67  ...  \\\n0  [[1.0, 1.0, 1.0, 1.0, 1.0, 1.0, 1.0, 1.0, 1.0,...  ...   \n1  [6, 6, 1, 3, 7, 4, 2, 9, 1, 2, 5, 3, 8, 6, 7, ...  ...   \n\n                                            f1711_35  \\\n0  [[1.0, 1.0, 1.0, 1.0, 1.0, 1.0, 1.0, 1.0, 1.0,...   \n1  [2, 2, 7, 6, 2, 7, 4, 5, 2, 4, 3, 6, 3, 2, 0, ...   \n\n                                            f1963_27  \\\n0  [[1.0, 1.0, 1.0, 1.0, 1.0, 1.0, 1.0, 1.0, 1.0,...   \n1  [3, 3, 7, 8, 8, 6, 5, 6, 3, 4, 6, 4, 8, 0, 0, ...   \n\n                                            f1997_00  \\\n0  [[1.0, 1.0, 1.0, 1.0, 1.0, 1.0, 1.0, 1.0, 1.0,...   \n1  [6, 6, 9, 7, 2, 0, 4, 5, 2, 7, 7, 9, 5, 6, 4, ...   \n\n                                            f1922_38  \\\n0  [[1.0, 1.0, 1.0, 1.0, 1.0, 1.0, 1.0, 1.0, 1.0,...   \n1  [44, 44, 58, 61, 54, 38, 53, 48, 39, 42, 56, 4...   \n\n                                            f1932_09  \\\n0  [[1.0, 1.0, 1.0, 1.0, 1.0, 1.0, 1.0, 1.0, 1.0,...   \n1  [31, 31, 22, 12, 34, 13, 15, 30, 10, 18, 11, 2...   \n\n                                            f1595_34  \\\n0  [[1.0, 1.0, 1.0, 1.0, 1.0, 1.0, 1.0, 1.0, 1.0,...   \n1  [9, 9, 8, 1, 2, 8, 2, 4, 3, 1, 4, 9, 8, 5, 2, ...   \n\n                                            f1981_44  \\\n0  [[1.0, 1.0, 1.0, 1.0, 1.0, 1.0, 1.0, 1.0, 1.0,...   \n1  [23, 23, 19, 17, 13, 32, 25, 26, 21, 27, 35, 2...   \n\n                                            f1609_27  \\\n0  [[1.0, 1.0, 1.0, 1.0, 1.0, 1.0, 1.0, 1.0, 1.0,...   \n1  [50, 50, 58, 45, 57, 49, 61, 36, 44, 53, 39, 4...   \n\n                                            f1672_35  \\\n0  [[1.0, 1.0, 1.0, 1.0, 1.0, 1.0, 1.0, 1.0, 1.0,...   \n1  [17, 17, 26, 22, 14, 18, 18, 25, 20, 11, 31, 2...   \n\n                                            f1553_24  \n0  [[1.0, 1.0, 1.0, 1.0, 1.0, 1.0, 1.0, 1.0, 1.0,...  \n1  [22, 22, 17, 28, 21, 33, 32, 14, 29, 11, 19, 2...  \n\n[2 rows x 3597 columns]",
      "text/html": "<div>\n<style scoped>\n    .dataframe tbody tr th:only-of-type {\n        vertical-align: middle;\n    }\n\n    .dataframe tbody tr th {\n        vertical-align: top;\n    }\n\n    .dataframe thead th {\n        text-align: right;\n    }\n</style>\n<table border=\"1\" class=\"dataframe\">\n  <thead>\n    <tr style=\"text-align: right;\">\n      <th></th>\n      <th>f2507_78</th>\n      <th>f2149_81</th>\n      <th>f2105_51</th>\n      <th>f2308_56</th>\n      <th>f2111_87</th>\n      <th>f2235_81</th>\n      <th>f2216_66</th>\n      <th>f2211_73</th>\n      <th>f2184_98</th>\n      <th>f2121_67</th>\n      <th>...</th>\n      <th>f1711_35</th>\n      <th>f1963_27</th>\n      <th>f1997_00</th>\n      <th>f1922_38</th>\n      <th>f1932_09</th>\n      <th>f1595_34</th>\n      <th>f1981_44</th>\n      <th>f1609_27</th>\n      <th>f1672_35</th>\n      <th>f1553_24</th>\n    </tr>\n  </thead>\n  <tbody>\n    <tr>\n      <th>0</th>\n      <td>[[1.0, 1.0, 1.0, 1.0, 1.0, 1.0, 1.0, 1.0, 1.0,...</td>\n      <td>[[1.0, 1.0, 1.0, 1.0, 1.0, 1.0, 1.0, 1.0, 1.0,...</td>\n      <td>[[1.0, 1.0, 1.0, 1.0, 1.0, 1.0, 1.0, 1.0, 1.0,...</td>\n      <td>[[1.0, 1.0, 1.0, 1.0, 1.0, 1.0, 1.0, 1.0, 1.0,...</td>\n      <td>[[1.0, 1.0, 1.0, 1.0, 1.0, 1.0, 1.0, 1.0, 1.0,...</td>\n      <td>[[1.0, 1.0, 1.0, 1.0, 1.0, 1.0, 1.0, 1.0, 1.0,...</td>\n      <td>[[1.0, 1.0, 1.0, 1.0, 1.0, 1.0, 1.0, 1.0, 1.0,...</td>\n      <td>[[1.0, 1.0, 1.0, 1.0, 1.0, 1.0, 1.0, 1.0, 1.0,...</td>\n      <td>[[1.0, 1.0, 1.0, 1.0, 1.0, 1.0, 1.0, 1.0, 1.0,...</td>\n      <td>[[1.0, 1.0, 1.0, 1.0, 1.0, 1.0, 1.0, 1.0, 1.0,...</td>\n      <td>...</td>\n      <td>[[1.0, 1.0, 1.0, 1.0, 1.0, 1.0, 1.0, 1.0, 1.0,...</td>\n      <td>[[1.0, 1.0, 1.0, 1.0, 1.0, 1.0, 1.0, 1.0, 1.0,...</td>\n      <td>[[1.0, 1.0, 1.0, 1.0, 1.0, 1.0, 1.0, 1.0, 1.0,...</td>\n      <td>[[1.0, 1.0, 1.0, 1.0, 1.0, 1.0, 1.0, 1.0, 1.0,...</td>\n      <td>[[1.0, 1.0, 1.0, 1.0, 1.0, 1.0, 1.0, 1.0, 1.0,...</td>\n      <td>[[1.0, 1.0, 1.0, 1.0, 1.0, 1.0, 1.0, 1.0, 1.0,...</td>\n      <td>[[1.0, 1.0, 1.0, 1.0, 1.0, 1.0, 1.0, 1.0, 1.0,...</td>\n      <td>[[1.0, 1.0, 1.0, 1.0, 1.0, 1.0, 1.0, 1.0, 1.0,...</td>\n      <td>[[1.0, 1.0, 1.0, 1.0, 1.0, 1.0, 1.0, 1.0, 1.0,...</td>\n      <td>[[1.0, 1.0, 1.0, 1.0, 1.0, 1.0, 1.0, 1.0, 1.0,...</td>\n    </tr>\n    <tr>\n      <th>1</th>\n      <td>[59, 59, 42, 53, 51, 56, 37, 49, 46, 47, 44, 6...</td>\n      <td>[37, 37, 45, 51, 59, 56, 40, 53, 46, 60, 52, 5...</td>\n      <td>[7, 7, 1, 3, 1, 9, 8, 7, 2, 1, 6, 3, 2, 6, 4, ...</td>\n      <td>[1, 1, 7, 7, 4, 9, 8, 5, 9, 9, 8, 7, 4, 1, 0, ...</td>\n      <td>[9, 9, 7, 8, 6, 2, 4, 8, 4, 0, 3, 9, 4, 6, 2, ...</td>\n      <td>[31, 31, 18, 15, 18, 12, 13, 25, 32, 23, 10, 1...</td>\n      <td>[24, 24, 22, 35, 32, 26, 28, 21, 12, 25, 10, 3...</td>\n      <td>[19, 19, 33, 31, 24, 16, 11, 29, 30, 28, 21, 1...</td>\n      <td>[42, 42, 61, 48, 46, 56, 41, 41, 54, 43, 37, 3...</td>\n      <td>[6, 6, 1, 3, 7, 4, 2, 9, 1, 2, 5, 3, 8, 6, 7, ...</td>\n      <td>...</td>\n      <td>[2, 2, 7, 6, 2, 7, 4, 5, 2, 4, 3, 6, 3, 2, 0, ...</td>\n      <td>[3, 3, 7, 8, 8, 6, 5, 6, 3, 4, 6, 4, 8, 0, 0, ...</td>\n      <td>[6, 6, 9, 7, 2, 0, 4, 5, 2, 7, 7, 9, 5, 6, 4, ...</td>\n      <td>[44, 44, 58, 61, 54, 38, 53, 48, 39, 42, 56, 4...</td>\n      <td>[31, 31, 22, 12, 34, 13, 15, 30, 10, 18, 11, 2...</td>\n      <td>[9, 9, 8, 1, 2, 8, 2, 4, 3, 1, 4, 9, 8, 5, 2, ...</td>\n      <td>[23, 23, 19, 17, 13, 32, 25, 26, 21, 27, 35, 2...</td>\n      <td>[50, 50, 58, 45, 57, 49, 61, 36, 44, 53, 39, 4...</td>\n      <td>[17, 17, 26, 22, 14, 18, 18, 25, 20, 11, 31, 2...</td>\n      <td>[22, 22, 17, 28, 21, 33, 32, 14, 29, 11, 19, 2...</td>\n    </tr>\n  </tbody>\n</table>\n<p>2 rows × 3597 columns</p>\n</div>"
     },
     "metadata": {}
    }
   ]
  },
  {
   "cell_type": "code",
   "source": [
    "batch = data_parser(df)\n",
    "batch.head()"
   ],
   "metadata": {
    "id": "ZbXba5cDc6Is",
    "outputId": "bbc84b74-f552-4762-d618-6b610068fd5e",
    "execution": {
     "iopub.status.busy": "2023-09-09T14:08:10.469592Z",
     "iopub.execute_input": "2023-09-09T14:08:10.470031Z",
     "iopub.status.idle": "2023-09-09T14:09:04.284020Z",
     "shell.execute_reply.started": "2023-09-09T14:08:10.469995Z",
     "shell.execute_reply": "2023-09-09T14:09:04.282925Z"
    },
    "trusted": true
   },
   "execution_count": 9,
   "outputs": [
    {
     "execution_count": 9,
     "output_type": "execute_result",
     "data": {
      "text/plain": "                                                 img class\n0  [1.0, 1.0, 1.0, 1.0, 1.0, 1.0, 1.0, 1.0, 1.0, ...    59\n1  [1.0, 1.0, 1.0, 1.0, 1.0, 1.0, 1.0, 1.0, 1.0, ...    59\n2  [1.0, 1.0, 1.0, 1.0, 1.0, 1.0, 1.0, 1.0, 1.0, ...    42\n3  [1.0, 1.0, 1.0, 1.0, 1.0, 1.0, 1.0, 1.0, 1.0, ...    53\n4  [1.0, 1.0, 1.0, 1.0, 1.0, 1.0, 1.0, 1.0, 1.0, ...    51",
      "text/html": "<div>\n<style scoped>\n    .dataframe tbody tr th:only-of-type {\n        vertical-align: middle;\n    }\n\n    .dataframe tbody tr th {\n        vertical-align: top;\n    }\n\n    .dataframe thead th {\n        text-align: right;\n    }\n</style>\n<table border=\"1\" class=\"dataframe\">\n  <thead>\n    <tr style=\"text-align: right;\">\n      <th></th>\n      <th>img</th>\n      <th>class</th>\n    </tr>\n  </thead>\n  <tbody>\n    <tr>\n      <th>0</th>\n      <td>[1.0, 1.0, 1.0, 1.0, 1.0, 1.0, 1.0, 1.0, 1.0, ...</td>\n      <td>59</td>\n    </tr>\n    <tr>\n      <th>1</th>\n      <td>[1.0, 1.0, 1.0, 1.0, 1.0, 1.0, 1.0, 1.0, 1.0, ...</td>\n      <td>59</td>\n    </tr>\n    <tr>\n      <th>2</th>\n      <td>[1.0, 1.0, 1.0, 1.0, 1.0, 1.0, 1.0, 1.0, 1.0, ...</td>\n      <td>42</td>\n    </tr>\n    <tr>\n      <th>3</th>\n      <td>[1.0, 1.0, 1.0, 1.0, 1.0, 1.0, 1.0, 1.0, 1.0, ...</td>\n      <td>53</td>\n    </tr>\n    <tr>\n      <th>4</th>\n      <td>[1.0, 1.0, 1.0, 1.0, 1.0, 1.0, 1.0, 1.0, 1.0, ...</td>\n      <td>51</td>\n    </tr>\n  </tbody>\n</table>\n</div>"
     },
     "metadata": {}
    }
   ]
  },
  {
   "cell_type": "code",
   "source": [
    "#release memory\n",
    "del df"
   ],
   "metadata": {
    "execution": {
     "iopub.status.busy": "2023-09-09T14:11:35.410360Z",
     "iopub.execute_input": "2023-09-09T14:11:35.410701Z",
     "iopub.status.idle": "2023-09-09T14:11:35.418366Z",
     "shell.execute_reply.started": "2023-09-09T14:11:35.410674Z",
     "shell.execute_reply": "2023-09-09T14:11:35.417161Z"
    },
    "trusted": true
   },
   "execution_count": 10,
   "outputs": []
  },
  {
   "cell_type": "code",
   "source": [
    "from torch.utils.data import Dataset\n",
    "from torchvision import transforms\n",
    "import MLDL23_FL_project.datasets.ss_transforms as tr\n",
    "from torch import from_numpy\n",
    "from matplotlib import cm\n",
    "from PIL import Image\n",
    "IMAGE_SIZE = 28\n",
    "import os\n",
    "# transform = transforms.Compose([\n",
    "#     transforms.ToTensor(),\n",
    "#     transforms.Normalize((0.5, 0.5, 0.5), (0.5, 0.5, 0.5)),\n",
    "# ])\n",
    "convert_tensor = transforms.ToTensor()\n",
    "\n",
    "class Femnist(Dataset):\n",
    "\n",
    "    def __init__(self,\n",
    "                 data: dict,\n",
    "                 transform: tr.Compose,\n",
    "                 client_name: str):\n",
    "        super().__init__()\n",
    "        self.samples = [(image, label) for image, label in zip(data['img'], data['class'])]\n",
    "        self.transform = transform\n",
    "        self.client_name = client_name\n",
    "\n",
    "\n",
    "    def __getitem__(self, index: int):\n",
    "        sample = self.samples[index]\n",
    "        image = Image.fromarray(np.uint8(sample[0].reshape(28,28)*255))\n",
    "        label = sample[1]\n",
    "\n",
    "\n",
    "        if self.transform is not None:\n",
    "\n",
    "            image = self.transform(image)\n",
    "\n",
    "        \n",
    "        return image, label\n",
    "\n",
    "    def __len__(self) -> int:\n",
    "        return len(self.samples)"
   ],
   "metadata": {
    "id": "0lUjp13mRb_Q",
    "execution": {
     "iopub.status.busy": "2023-09-09T14:12:13.250151Z",
     "iopub.execute_input": "2023-09-09T14:12:13.250602Z",
     "iopub.status.idle": "2023-09-09T14:12:13.273599Z",
     "shell.execute_reply.started": "2023-09-09T14:12:13.250572Z",
     "shell.execute_reply": "2023-09-09T14:12:13.272465Z"
    },
    "trusted": true
   },
   "execution_count": 12,
   "outputs": []
  },
  {
   "cell_type": "code",
   "source": [
    "## test\n",
    "\n",
    "obj = Femnist(batch, convert_tensor, None)\n",
    "obj.__getitem__(1)[0].shape"
   ],
   "metadata": {
    "id": "rep_Err9Wuq-",
    "outputId": "0215fc6d-66f2-40e6-94b6-c7195beeed6c",
    "execution": {
     "iopub.status.busy": "2023-09-09T14:12:15.280695Z",
     "iopub.execute_input": "2023-09-09T14:12:15.281062Z",
     "iopub.status.idle": "2023-09-09T14:12:15.622965Z",
     "shell.execute_reply.started": "2023-09-09T14:12:15.281036Z",
     "shell.execute_reply": "2023-09-09T14:12:15.621762Z"
    },
    "trusted": true
   },
   "execution_count": 13,
   "outputs": [
    {
     "execution_count": 13,
     "output_type": "execute_result",
     "data": {
      "text/plain": "torch.Size([1, 28, 28])"
     },
     "metadata": {}
    }
   ]
  },
  {
   "cell_type": "code",
   "source": [
    "batch.loc[1,'img'].shape"
   ],
   "metadata": {
    "id": "ZgKMde8AX4xN",
    "outputId": "270a88d3-70a7-412b-efcf-c33314cfc2a9",
    "execution": {
     "iopub.status.busy": "2023-09-09T14:12:20.724935Z",
     "iopub.execute_input": "2023-09-09T14:12:20.725340Z",
     "iopub.status.idle": "2023-09-09T14:12:20.754760Z",
     "shell.execute_reply.started": "2023-09-09T14:12:20.725312Z",
     "shell.execute_reply": "2023-09-09T14:12:20.753418Z"
    },
    "trusted": true
   },
   "execution_count": 14,
   "outputs": [
    {
     "execution_count": 14,
     "output_type": "execute_result",
     "data": {
      "text/plain": "(784,)"
     },
     "metadata": {}
    }
   ]
  },
  {
   "cell_type": "code",
   "source": [
    "Image.fromarray(np.uint8(batch.loc[1,'img'].reshape(28,28)*255))"
   ],
   "metadata": {
    "id": "IKI2Y3oGYFTe",
    "outputId": "3fc28db6-a821-4eee-b271-c0b17e3944e9",
    "execution": {
     "iopub.status.busy": "2023-09-09T14:12:23.459923Z",
     "iopub.execute_input": "2023-09-09T14:12:23.460315Z",
     "iopub.status.idle": "2023-09-09T14:12:23.477852Z",
     "shell.execute_reply.started": "2023-09-09T14:12:23.460287Z",
     "shell.execute_reply": "2023-09-09T14:12:23.476245Z"
    },
    "trusted": true
   },
   "execution_count": 15,
   "outputs": [
    {
     "execution_count": 15,
     "output_type": "execute_result",
     "data": {
      "text/plain": "<PIL.Image.Image image mode=L size=28x28>",
      "image/png": "[encoded data removed]"
     },
     "metadata": {}
    }
   ]
  },
  {
   "cell_type": "code",
   "source": [
    "class CNN_1(nn.Module): \n",
    "    def __init__(self, num_classes): \n",
    "        super(CNN_1, self).__init__() \n",
    "        self.conv1 = nn.Conv2d(in_channels=1, \n",
    "                               out_channels=32, \n",
    "                               kernel_size=5, \n",
    "                               stride=1\n",
    "                               ) \n",
    "\n",
    "        self.conv2 = nn.Conv2d(in_channels=32, \n",
    "                               out_channels=64, \n",
    "                               kernel_size=5, \n",
    "                               stride=1\n",
    "                               ) \n",
    "        self.fc1 = nn.Linear(64 * 5 * 5, 2048) \n",
    "        self.fc2 = nn.Linear(2048, num_classes) \n",
    "    \n",
    "    def forward(self, x):\n",
    "        x =  F.relu(\n",
    "                    F.max_pool2d(\n",
    "                      self.conv1(x),2,2\n",
    "                      )\n",
    "                    )\n",
    "        x =  F.relu(\n",
    "                   F.max_pool2d(\n",
    "                      self.conv2(x),2,2\n",
    "                      )\n",
    "                   ) \n",
    "        # x =  x.view(-1,x.size(0)) \n",
    "        x =  F.relu(self.fc1(x))\n",
    "        x =  self.fc2(x) \n",
    "        return x\n"
   ],
   "metadata": {
    "id": "Ej855jweodkk",
    "execution": {
     "iopub.status.busy": "2023-09-09T15:15:05.649593Z",
     "iopub.execute_input": "2023-09-09T15:15:05.649982Z",
     "iopub.status.idle": "2023-09-09T15:15:05.657568Z",
     "shell.execute_reply.started": "2023-09-09T15:15:05.649934Z",
     "shell.execute_reply": "2023-09-09T15:15:05.656708Z"
    },
    "trusted": true
   },
   "execution_count": 36,
   "outputs": []
  },
  {
   "cell_type": "code",
   "source": [
    "class CNN_2(nn.Module):\n",
    "    def __init__(self, num_classes):\n",
    "        super(CNN_2, self).__init__()\n",
    "        self.num_classes = num_classes\n",
    "\n",
    "        self.conv1 = nn.Conv2d(1, 32, kernel_size=5, padding=2)\n",
    "        self.conv2 = nn.Conv2d(32, 64, kernel_size=5, padding=2)\n",
    "        self.fc1 = nn.Linear(7 * 7 * 64, 2048)\n",
    "        self.fc2 = nn.Linear(2048, num_classes)\n",
    "\n",
    "    def forward(self, x):\n",
    "        x = x.view(-1, 1, 28, 28)\n",
    "        x = F.relu(self.conv1(x))\n",
    "        x = F.max_pool2d(x, 2)\n",
    "        x = F.relu(self.conv2(x))\n",
    "        x = F.max_pool2d(x, 2)\n",
    "        x = x.view(-1, 7 * 7 * 64)\n",
    "        x = F.relu(self.fc1(x))\n",
    "        x = self.fc2(x)\n",
    "        return x"
   ],
   "metadata": {
    "id": "XeSiXqAhJM0x",
    "execution": {
     "iopub.status.busy": "2023-09-09T15:15:05.939567Z",
     "iopub.execute_input": "2023-09-09T15:15:05.939974Z",
     "iopub.status.idle": "2023-09-09T15:15:05.947964Z",
     "shell.execute_reply.started": "2023-09-09T15:15:05.939927Z",
     "shell.execute_reply": "2023-09-09T15:15:05.946908Z"
    },
    "trusted": true
   },
   "execution_count": 37,
   "outputs": []
  },
  {
   "cell_type": "code",
   "source": [
    "X_train, X_val, y_train, y_val = train_test_split(batch['img'], batch['class'], test_size=0.2, random_state=42)\n",
    "\n",
    "torch_train = Femnist(pd.DataFrame(\n",
    "    {'img': X_train.tolist(),\n",
    "     'class': y_train.tolist()}), convert_tensor, None\n",
    ")\n",
    "\n",
    "\n",
    "torch_test = Femnist(pd.DataFrame(\n",
    "    {'img': X_val.tolist(),\n",
    "     'class': y_val.tolist()}), convert_tensor, None\n",
    ")\n",
    "                        \n"
   ],
   "metadata": {
    "id": "N3ohllOqh27Y",
    "execution": {
     "iopub.status.busy": "2023-09-09T15:16:38.659726Z",
     "iopub.execute_input": "2023-09-09T15:16:38.660329Z",
     "iopub.status.idle": "2023-09-09T15:16:39.938991Z",
     "shell.execute_reply.started": "2023-09-09T15:16:38.660293Z",
     "shell.execute_reply": "2023-09-09T15:16:39.937967Z"
    },
    "trusted": true
   },
   "execution_count": 40,
   "outputs": []
  },
  {
   "cell_type": "code",
   "source": [
    "X_train"
   ],
   "metadata": {
    "id": "-zKa1otbWbKW",
    "outputId": "6419c096-d731-4d7a-ae25-cfab2889bf35",
    "execution": {
     "iopub.status.busy": "2023-09-09T15:16:43.359902Z",
     "iopub.execute_input": "2023-09-09T15:16:43.360529Z",
     "iopub.status.idle": "2023-09-09T15:16:43.371878Z",
     "shell.execute_reply.started": "2023-09-09T15:16:43.360500Z",
     "shell.execute_reply": "2023-09-09T15:16:43.370693Z"
    },
    "trusted": true
   },
   "execution_count": 41,
   "outputs": [
    {
     "execution_count": 41,
     "output_type": "execute_result",
     "data": {
      "text/plain": "607753    [1.0, 1.0, 1.0, 1.0, 1.0, 1.0, 1.0, 1.0, 1.0, ...\n396266    [1.0, 1.0, 1.0, 1.0, 1.0, 1.0, 1.0, 1.0, 1.0, ...\n367753    [1.0, 1.0, 1.0, 1.0, 1.0, 1.0, 1.0, 1.0, 1.0, ...\n620298    [1.0, 1.0, 1.0, 1.0, 1.0, 1.0, 1.0, 1.0, 1.0, ...\n662182    [1.0, 1.0, 1.0, 1.0, 1.0, 1.0, 1.0, 1.0, 1.0, ...\n                                ...                        \n259178    [1.0, 1.0, 1.0, 1.0, 1.0, 1.0, 1.0, 1.0, 1.0, ...\n365838    [1.0, 1.0, 1.0, 1.0, 1.0, 1.0, 1.0, 1.0, 1.0, ...\n131932    [1.0, 1.0, 1.0, 1.0, 1.0, 1.0, 1.0, 1.0, 1.0, ...\n671155    [1.0, 1.0, 1.0, 1.0, 1.0, 1.0, 1.0, 1.0, 1.0, ...\n121958    [1.0, 1.0, 1.0, 1.0, 1.0, 1.0, 1.0, 1.0, 1.0, ...\nName: img, Length: 654280, dtype: object"
     },
     "metadata": {}
    }
   ]
  },
  {
   "cell_type": "code",
   "source": [
    "print(\"length of the dataset is:\", len(torch_train))"
   ],
   "metadata": {
    "id": "4O4T6L0WwZxS",
    "outputId": "6690e761-e600-468c-8346-c94da1f04af0",
    "execution": {
     "iopub.status.busy": "2023-09-09T14:12:43.689210Z",
     "iopub.execute_input": "2023-09-09T14:12:43.689612Z",
     "iopub.status.idle": "2023-09-09T14:12:43.696526Z",
     "shell.execute_reply.started": "2023-09-09T14:12:43.689582Z",
     "shell.execute_reply": "2023-09-09T14:12:43.695052Z"
    },
    "trusted": true
   },
   "execution_count": 20,
   "outputs": [
    {
     "name": "stdout",
     "text": "length of the dataset is: 654280\n",
     "output_type": "stream"
    }
   ]
  },
  {
   "cell_type": "code",
   "source": [
    "n_classes = batch['class'].unique().shape[0]\n",
    "\n",
    "train_loader = DataLoader(torch_train, batch_size=64, shuffle=True) \n",
    "val_loader = DataLoader(torch_test, batch_size=64, shuffle=False) # set up model and optimizer \n",
    "device = torch.device('cuda' if torch.cuda.is_available() else 'cpu') \n",
    "CNNmodel = CNN_2(n_classes).to(device)\n",
    "optimizer = torch.optim.SGD(CNNmodel.parameters(), lr=0.001) # define loss function criterion = nn.CrossEntropyLoss()\n",
    "criterion = nn.CrossEntropyLoss()"
   ],
   "metadata": {
    "id": "JofMckHExWmD",
    "execution": {
     "iopub.status.busy": "2023-09-09T15:17:29.430538Z",
     "iopub.execute_input": "2023-09-09T15:17:29.430925Z",
     "iopub.status.idle": "2023-09-09T15:17:29.519343Z",
     "shell.execute_reply.started": "2023-09-09T15:17:29.430897Z",
     "shell.execute_reply": "2023-09-09T15:17:29.518463Z"
    },
    "trusted": true
   },
   "execution_count": 46,
   "outputs": []
  },
  {
   "cell_type": "code",
   "source": [
    "for epoch in range(5):  # loop over the dataset multiple times\n",
    "\n",
    "    running_loss = 0.0\n",
    "    for i, data in enumerate(train_loader, 0):\n",
    "        # get the inputs; data is a list of [inputs, labels]\n",
    "        inputs, labels = data\n",
    "\n",
    "        # zero the parameter gradients\n",
    "        optimizer.zero_grad()\n",
    "\n",
    "        # forward + backward + optimize\n",
    "        outputs = CNNmodel(inputs)\n",
    "        loss = criterion(outputs, labels)\n",
    "        loss.backward()\n",
    "        optimizer.step()\n",
    "\n",
    "        # print statistics\n",
    "        running_loss += loss.item()\n",
    "        if i % 2000 == 1999:    # print every 2000 mini-batches\n",
    "            print(f'[{epoch + 1}, {i + 1:5d}] loss: {running_loss / 2000:.3f}')\n",
    "            running_loss = 0.0\n",
    "\n",
    "print('Finished Training')"
   ],
   "metadata": {
    "id": "ooGvnZ56UjmA",
    "execution": {
     "iopub.status.busy": "2023-09-09T15:18:43.857637Z",
     "iopub.execute_input": "2023-09-09T15:18:43.858035Z"
    },
    "trusted": true
   },
   "execution_count": null,
   "outputs": [
    {
     "name": "stdout",
     "text": "[1,  2000] loss: 3.745\n[1,  4000] loss: 3.676\n",
     "output_type": "stream"
    }
   ]
  },
  {
   "cell_type": "code",
   "source": [
    "PATH = './central_net_5epochs.pth'\n",
    "torch.save(CNNmodel.state_dict(), PATH)"
   ],
   "metadata": {
    "trusted": true
   },
   "execution_count": null,
   "outputs": []
  },
  {
   "cell_type": "code",
   "source": [
    "correct = 0\n",
    "total = 0\n",
    "# since we're not training, we don't need to calculate the gradients for our outputs\n",
    "with torch.no_grad():\n",
    "    for data in val_loader:\n",
    "        images, labels = data\n",
    "        # calculate outputs by running images through the network\n",
    "        outputs = CNNmodel(images)\n",
    "        # the class with the highest energy is what we choose as prediction\n",
    "        _, predicted = torch.max(outputs.data, 1)\n",
    "        total += labels.size(0)\n",
    "        correct += (predicted == labels).sum().item()\n",
    "\n",
    "print(f'Accuracy of the network on the 10000 test images: {100 * correct // total} %')"
   ],
   "metadata": {
    "trusted": true
   },
   "execution_count": null,
   "outputs": []
  },
  {
   "cell_type": "code",
   "source": [
    "# prepare to count predictions for each class\n",
    "correct_pred = {classname: 0 for classname in classes}\n",
    "total_pred = {classname: 0 for classname in classes}\n",
    "\n",
    "# again no gradients needed\n",
    "with torch.no_grad():\n",
    "    for data in val_loader:\n",
    "        images, labels = data\n",
    "        outputs = CNNmodel(images)\n",
    "        _, predictions = torch.max(outputs, 1)\n",
    "        # collect the correct predictions for each class\n",
    "        for label, prediction in zip(labels, predictions):\n",
    "            if label == prediction:\n",
    "                correct_pred[classes[label]] += 1\n",
    "            total_pred[classes[label]] += 1\n",
    "\n",
    "\n",
    "# print accuracy for each class\n",
    "for classname, correct_count in correct_pred.items():\n",
    "    accuracy = 100 * float(correct_count) / total_pred[classname]\n",
    "    print(f'Accuracy for class: {classname:5s} is {accuracy:.1f} %')"
   ],
   "metadata": {
    "trusted": true
   },
   "execution_count": null,
   "outputs": []
  },
  {
   "cell_type": "code",
   "source": [
    "#CNNmodel.state_dict()"
   ],
   "metadata": {
    "execution": {
     "iopub.status.busy": "2023-09-09T15:13:47.257846Z",
     "iopub.execute_input": "2023-09-09T15:13:47.258221Z",
     "iopub.status.idle": "2023-09-09T15:13:47.262805Z",
     "shell.execute_reply.started": "2023-09-09T15:13:47.258198Z",
     "shell.execute_reply": "2023-09-09T15:13:47.261663Z"
    },
    "trusted": true
   },
   "execution_count": 31,
   "outputs": []
  }
 ]
}
